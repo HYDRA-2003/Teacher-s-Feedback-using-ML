{
  "cells": [
    {
      "cell_type": "code",
      "execution_count": null,
      "metadata": {
        "id": "2P4KqvAwGXnt"
      },
      "outputs": [],
      "source": [
        "from zipfile import ZipFile\n",
        "with ZipFile(r\"/content/write images.zip\") as zip:\n",
        "  zip.extractall()"
      ]
    },
    {
      "cell_type": "code",
      "execution_count": null,
      "metadata": {
        "id": "JIMAJe4CHFbs"
      },
      "outputs": [],
      "source": [
        "import cv2\n",
        "import os\n",
        "\n"
      ]
    },
    {
      "cell_type": "code",
      "execution_count": null,
      "metadata": {
        "id": "HUj6hJdxOk19"
      },
      "outputs": [],
      "source": [
        "import cv2\n",
        "\n",
        "# Opens the Video file\n",
        "cap= cv2.VideoCapture(r'/content/Video_One.mp4')\n",
        "i=1\n",
        "wait = 0\n",
        "\n",
        "while(cap.isOpened()):\n",
        "  ret, frame = cap.read()\n",
        "  if ret == False:\n",
        "      break\n",
        "\n",
        "  wait = wait+100\n",
        "  if wait == 9000:\n",
        "\n",
        "    filename = 'Frame11_'+str(i)+'.jpg'\n",
        "    out_path = \"/content/write images/\"\n",
        "\n",
        "    cv2.imwrite(os.path.join(out_path, filename), frame)\n",
        "    i += 1\n",
        "    wait = 0\n",
        "\n",
        "cap.release()\n",
        "cv2.destroyAllWindows()"
      ]
    },
    {
      "cell_type": "code",
      "execution_count": null,
      "metadata": {
        "colab": {
          "base_uri": "https://localhost:8080/"
        },
        "id": "hUehOdA9U0tG",
        "outputId": "0282441c-9083-4ae3-c5df-13ecdd0fce13"
      },
      "outputs": [
        {
          "name": "stdout",
          "output_type": "stream",
          "text": [
            ".ipynb_checkpoints\n",
            "Frame11_3.jpg\n",
            "Frame11_5.jpg\n",
            "Frame11_6.jpg\n",
            "Frame11_2.jpg\n",
            "Frame11_4.jpg\n",
            "Frame11_1.jpg\n"
          ]
        }
      ],
      "source": [
        "directory = \"/content/write images\"\n",
        "\n",
        "for filename in os.listdir(directory):\n",
        "  analysis=emotion_detector.detect_emotions(filename)\n",
        "\n",
        ""
      ]
    },
    {
      "cell_type": "code",
      "execution_count": null,
      "metadata": {
        "id": "UDFubol9ZAhW",
        "colab": {
          "base_uri": "https://localhost:8080/"
        },
        "outputId": "59beb098-3402-4186-c845-4425e7441366"
      },
      "outputs": [
        {
          "output_type": "stream",
          "name": "stdout",
          "text": [
            "Looking in indexes: https://pypi.org/simple, https://us-python.pkg.dev/colab-wheels/public/simple/\n",
            "Collecting fer\n",
            "  Downloading fer-22.4.0-py3-none-any.whl (812 kB)\n",
            "\u001b[K     |████████████████████████████████| 812 kB 7.6 MB/s \n",
            "\u001b[?25hRequirement already satisfied: tqdm in /usr/local/lib/python3.7/dist-packages (from fer) (4.64.0)\n",
            "Requirement already satisfied: opencv-contrib-python in /usr/local/lib/python3.7/dist-packages (from fer) (4.1.2.30)\n",
            "Collecting mtcnn>=0.1.1\n",
            "  Downloading mtcnn-0.1.1-py3-none-any.whl (2.3 MB)\n",
            "\u001b[K     |████████████████████████████████| 2.3 MB 41.3 MB/s \n",
            "\u001b[?25hRequirement already satisfied: requests in /usr/local/lib/python3.7/dist-packages (from fer) (2.23.0)\n",
            "Requirement already satisfied: keras>=2.0.0 in /usr/local/lib/python3.7/dist-packages (from fer) (2.8.0)\n",
            "Requirement already satisfied: matplotlib in /usr/local/lib/python3.7/dist-packages (from fer) (3.2.2)\n",
            "Requirement already satisfied: opencv-python>=4.1.0 in /usr/local/lib/python3.7/dist-packages (from mtcnn>=0.1.1->fer) (4.1.2.30)\n",
            "Requirement already satisfied: numpy>=1.14.5 in /usr/local/lib/python3.7/dist-packages (from opencv-python>=4.1.0->mtcnn>=0.1.1->fer) (1.21.6)\n",
            "Requirement already satisfied: python-dateutil>=2.1 in /usr/local/lib/python3.7/dist-packages (from matplotlib->fer) (2.8.2)\n",
            "Requirement already satisfied: cycler>=0.10 in /usr/local/lib/python3.7/dist-packages (from matplotlib->fer) (0.11.0)\n",
            "Requirement already satisfied: pyparsing!=2.0.4,!=2.1.2,!=2.1.6,>=2.0.1 in /usr/local/lib/python3.7/dist-packages (from matplotlib->fer) (3.0.9)\n",
            "Requirement already satisfied: kiwisolver>=1.0.1 in /usr/local/lib/python3.7/dist-packages (from matplotlib->fer) (1.4.3)\n",
            "Requirement already satisfied: typing-extensions in /usr/local/lib/python3.7/dist-packages (from kiwisolver>=1.0.1->matplotlib->fer) (4.1.1)\n",
            "Requirement already satisfied: six>=1.5 in /usr/local/lib/python3.7/dist-packages (from python-dateutil>=2.1->matplotlib->fer) (1.15.0)\n",
            "Requirement already satisfied: urllib3!=1.25.0,!=1.25.1,<1.26,>=1.21.1 in /usr/local/lib/python3.7/dist-packages (from requests->fer) (1.24.3)\n",
            "Requirement already satisfied: chardet<4,>=3.0.2 in /usr/local/lib/python3.7/dist-packages (from requests->fer) (3.0.4)\n",
            "Requirement already satisfied: certifi>=2017.4.17 in /usr/local/lib/python3.7/dist-packages (from requests->fer) (2022.6.15)\n",
            "Requirement already satisfied: idna<3,>=2.5 in /usr/local/lib/python3.7/dist-packages (from requests->fer) (2.10)\n",
            "Installing collected packages: mtcnn, fer\n",
            "Successfully installed fer-22.4.0 mtcnn-0.1.1\n"
          ]
        }
      ],
      "source": [
        "!pip install fer"
      ]
    },
    {
      "cell_type": "code",
      "execution_count": null,
      "metadata": {
        "id": "udd6bldqZJ5C"
      },
      "outputs": [],
      "source": [
        "from fer import FER\n",
        "import cv2"
      ]
    },
    {
      "cell_type": "code",
      "execution_count": null,
      "metadata": {
        "id": "XTENw62yZOG6"
      },
      "outputs": [],
      "source": [
        "emotion_detector = FER(mtcnn=True)"
      ]
    },
    {
      "cell_type": "code",
      "execution_count": null,
      "metadata": {
        "id": "iUfMoShIPaak",
        "colab": {
          "base_uri": "https://localhost:8080/",
          "height": 381
        },
        "outputId": "354104ca-3af9-42c0-8400-531733268bfc"
      },
      "outputs": [
        {
          "output_type": "error",
          "ename": "ValueError",
          "evalue": "ignored",
          "traceback": [
            "\u001b[0;31m---------------------------------------------------------------------------\u001b[0m",
            "\u001b[0;31mValueError\u001b[0m                                Traceback (most recent call last)",
            "\u001b[0;32m<ipython-input-17-405ff4998672>\u001b[0m in \u001b[0;36m<module>\u001b[0;34m()\u001b[0m\n\u001b[1;32m      4\u001b[0m   \u001b[0;32mif\u001b[0m \u001b[0mfilename\u001b[0m\u001b[0;34m.\u001b[0m\u001b[0mendswith\u001b[0m\u001b[0;34m(\u001b[0m\u001b[0;34m\".png\"\u001b[0m\u001b[0;34m)\u001b[0m \u001b[0;32mor\u001b[0m \u001b[0mfilename\u001b[0m\u001b[0;34m.\u001b[0m\u001b[0mendswith\u001b[0m\u001b[0;34m(\u001b[0m\u001b[0;34m\".jpg\"\u001b[0m\u001b[0;34m)\u001b[0m\u001b[0;34m:\u001b[0m\u001b[0;34m\u001b[0m\u001b[0;34m\u001b[0m\u001b[0m\n\u001b[1;32m      5\u001b[0m \u001b[0;34m\u001b[0m\u001b[0m\n\u001b[0;32m----> 6\u001b[0;31m    \u001b[0manalysis\u001b[0m\u001b[0;34m=\u001b[0m\u001b[0memotion_detector\u001b[0m\u001b[0;34m.\u001b[0m\u001b[0mdetect_emotions\u001b[0m\u001b[0;34m(\u001b[0m\u001b[0mfilename\u001b[0m\u001b[0;34m)\u001b[0m\u001b[0;34m\u001b[0m\u001b[0;34m\u001b[0m\u001b[0m\n\u001b[0m\u001b[1;32m      7\u001b[0m    \u001b[0mprint\u001b[0m\u001b[0;34m(\u001b[0m\u001b[0manalysis\u001b[0m\u001b[0;34m)\u001b[0m\u001b[0;34m\u001b[0m\u001b[0;34m\u001b[0m\u001b[0m\n\u001b[1;32m      8\u001b[0m \u001b[0;34m\u001b[0m\u001b[0m\n",
            "\u001b[0;32m/usr/local/lib/python3.7/dist-packages/fer/fer.py\u001b[0m in \u001b[0;36mdetect_emotions\u001b[0;34m(self, img, face_rectangles)\u001b[0m\n\u001b[1;32m    235\u001b[0m         \u001b[0;34m:\u001b[0m\u001b[0;32mreturn\u001b[0m\u001b[0;34m:\u001b[0m \u001b[0mlist\u001b[0m \u001b[0mcontaining\u001b[0m \u001b[0mall\u001b[0m \u001b[0mthe\u001b[0m \u001b[0mbounding\u001b[0m \u001b[0mboxes\u001b[0m \u001b[0mdetected\u001b[0m \u001b[0;32mwith\u001b[0m \u001b[0mtheir\u001b[0m \u001b[0memotions\u001b[0m\u001b[0;34m.\u001b[0m\u001b[0;34m\u001b[0m\u001b[0;34m\u001b[0m\u001b[0m\n\u001b[1;32m    236\u001b[0m         \"\"\"\n\u001b[0;32m--> 237\u001b[0;31m         \u001b[0mimg\u001b[0m \u001b[0;34m=\u001b[0m \u001b[0mload_image\u001b[0m\u001b[0;34m(\u001b[0m\u001b[0mimg\u001b[0m\u001b[0;34m)\u001b[0m\u001b[0;34m\u001b[0m\u001b[0;34m\u001b[0m\u001b[0m\n\u001b[0m\u001b[1;32m    238\u001b[0m \u001b[0;34m\u001b[0m\u001b[0m\n\u001b[1;32m    239\u001b[0m         \u001b[0memotion_labels\u001b[0m \u001b[0;34m=\u001b[0m \u001b[0mself\u001b[0m\u001b[0;34m.\u001b[0m\u001b[0m_get_labels\u001b[0m\u001b[0;34m(\u001b[0m\u001b[0;34m)\u001b[0m\u001b[0;34m\u001b[0m\u001b[0;34m\u001b[0m\u001b[0m\n",
            "\u001b[0;32m/usr/local/lib/python3.7/dist-packages/fer/utils.py\u001b[0m in \u001b[0;36mload_image\u001b[0;34m(img)\u001b[0m\n\u001b[1;32m     68\u001b[0m     \u001b[0;32melif\u001b[0m \u001b[0;32mnot\u001b[0m \u001b[0mis_exact_image\u001b[0m\u001b[0;34m:\u001b[0m  \u001b[0;31m# image path passed as input\u001b[0m\u001b[0;34m\u001b[0m\u001b[0;34m\u001b[0m\u001b[0m\n\u001b[1;32m     69\u001b[0m         \u001b[0;32mif\u001b[0m \u001b[0;32mnot\u001b[0m \u001b[0mos\u001b[0m\u001b[0;34m.\u001b[0m\u001b[0mpath\u001b[0m\u001b[0;34m.\u001b[0m\u001b[0misfile\u001b[0m\u001b[0;34m(\u001b[0m\u001b[0mimg\u001b[0m\u001b[0;34m)\u001b[0m\u001b[0;34m:\u001b[0m\u001b[0;34m\u001b[0m\u001b[0;34m\u001b[0m\u001b[0m\n\u001b[0;32m---> 70\u001b[0;31m             \u001b[0;32mraise\u001b[0m \u001b[0mValueError\u001b[0m\u001b[0;34m(\u001b[0m\u001b[0;34mf\"Confirm that {img} exists\"\u001b[0m\u001b[0;34m)\u001b[0m\u001b[0;34m\u001b[0m\u001b[0;34m\u001b[0m\u001b[0m\n\u001b[0m\u001b[1;32m     71\u001b[0m         \u001b[0mimg\u001b[0m \u001b[0;34m=\u001b[0m \u001b[0mcv2\u001b[0m\u001b[0;34m.\u001b[0m\u001b[0mimread\u001b[0m\u001b[0;34m(\u001b[0m\u001b[0mimg\u001b[0m\u001b[0;34m)\u001b[0m\u001b[0;34m\u001b[0m\u001b[0;34m\u001b[0m\u001b[0m\n\u001b[1;32m     72\u001b[0m \u001b[0;34m\u001b[0m\u001b[0m\n",
            "\u001b[0;31mValueError\u001b[0m: Confirm that Frame11_1.jpg exists"
          ]
        }
      ],
      "source": [
        "directory = \"/content/write images/\"\n",
        "\n",
        "for filename in os.listdir(directory):\n",
        "  if filename.endswith(\".png\") or filename.endswith(\".jpg\"):\n",
        "\n",
        "   analysis=emotion_detector.detect_emotions(\"/content/write images/Frame11\")\n",
        "   print(analysis)\n",
        "\n",
        "\n",
        ""
      ]
    },
    {
      "cell_type": "code",
      "source": [
        "analysis=emotion_detector.detect_emotions(\"/content/ppt.jpg\")"
      ],
      "metadata": {
        "id": "1tlnEiKV2I-z"
      },
      "execution_count": null,
      "outputs": []
    },
    {
      "cell_type": "code",
      "source": [
        "analysis\n"
      ],
      "metadata": {
        "colab": {
          "base_uri": "https://localhost:8080/"
        },
        "id": "eMH0krAy2L1f",
        "outputId": "979148d7-58d5-4a56-f27b-2d662b7b8509"
      },
      "execution_count": null,
      "outputs": [
        {
          "output_type": "execute_result",
          "data": {
            "text/plain": [
              "[{'box': [114, 164, 60, 82],\n",
              "  'emotions': {'angry': 0.14,\n",
              "   'disgust': 0.0,\n",
              "   'fear': 0.11,\n",
              "   'happy': 0.08,\n",
              "   'neutral': 0.51,\n",
              "   'sad': 0.14,\n",
              "   'surprise': 0.02}},\n",
              " {'box': [390, 54, 60, 79],\n",
              "  'emotions': {'angry': 0.09,\n",
              "   'disgust': 0.0,\n",
              "   'fear': 0.12,\n",
              "   'happy': 0.12,\n",
              "   'neutral': 0.46,\n",
              "   'sad': 0.19,\n",
              "   'surprise': 0.02}},\n",
              " {'box': [127, 18, 44, 59],\n",
              "  'emotions': {'angry': 0.28,\n",
              "   'disgust': 0.0,\n",
              "   'fear': 0.0,\n",
              "   'happy': 0.02,\n",
              "   'neutral': 0.44,\n",
              "   'sad': 0.26,\n",
              "   'surprise': 0.0}},\n",
              " {'box': [413, 195, 78, 93],\n",
              "  'emotions': {'angry': 0.07,\n",
              "   'disgust': 0.0,\n",
              "   'fear': 0.07,\n",
              "   'happy': 0.0,\n",
              "   'neutral': 0.09,\n",
              "   'sad': 0.76,\n",
              "   'surprise': 0.0}}]"
            ]
          },
          "metadata": {},
          "execution_count": 23
        }
      ]
    },
    {
      "cell_type": "code",
      "source": [
        "dom_emotion=emotion_detector.top_emotion(\"My project(1).jpg\")"
      ],
      "metadata": {
        "id": "1eBSAlNd2W2L",
        "colab": {
          "base_uri": "https://localhost:8080/",
          "height": 319
        },
        "outputId": "7695785a-fd13-406e-d3a3-b7a486f8a400"
      },
      "execution_count": null,
      "outputs": [
        {
          "output_type": "error",
          "ename": "ValueError",
          "evalue": "ignored",
          "traceback": [
            "\u001b[0;31m---------------------------------------------------------------------------\u001b[0m",
            "\u001b[0;31mValueError\u001b[0m                                Traceback (most recent call last)",
            "\u001b[0;32m<ipython-input-10-9ad01fd798fe>\u001b[0m in \u001b[0;36m<module>\u001b[0;34m()\u001b[0m\n\u001b[0;32m----> 1\u001b[0;31m \u001b[0mdom_emotion\u001b[0m\u001b[0;34m=\u001b[0m\u001b[0memotion_detector\u001b[0m\u001b[0;34m.\u001b[0m\u001b[0mtop_emotion\u001b[0m\u001b[0;34m(\u001b[0m\u001b[0;34m\"My project(1).jpg\"\u001b[0m\u001b[0;34m)\u001b[0m\u001b[0;34m\u001b[0m\u001b[0;34m\u001b[0m\u001b[0m\n\u001b[0m",
            "\u001b[0;32m/usr/local/lib/python3.7/dist-packages/fer/fer.py\u001b[0m in \u001b[0;36mtop_emotion\u001b[0;34m(self, img)\u001b[0m\n\u001b[1;32m    305\u001b[0m \u001b[0;34m\u001b[0m\u001b[0m\n\u001b[1;32m    306\u001b[0m         \"\"\"\n\u001b[0;32m--> 307\u001b[0;31m         \u001b[0memotions\u001b[0m \u001b[0;34m=\u001b[0m \u001b[0mself\u001b[0m\u001b[0;34m.\u001b[0m\u001b[0mdetect_emotions\u001b[0m\u001b[0;34m(\u001b[0m\u001b[0mimg\u001b[0m\u001b[0;34m=\u001b[0m\u001b[0mimg\u001b[0m\u001b[0;34m)\u001b[0m\u001b[0;34m\u001b[0m\u001b[0;34m\u001b[0m\u001b[0m\n\u001b[0m\u001b[1;32m    308\u001b[0m         top_emotions = [\n\u001b[1;32m    309\u001b[0m             \u001b[0mmax\u001b[0m\u001b[0;34m(\u001b[0m\u001b[0me\u001b[0m\u001b[0;34m[\u001b[0m\u001b[0;34m\"emotions\"\u001b[0m\u001b[0;34m]\u001b[0m\u001b[0;34m,\u001b[0m \u001b[0mkey\u001b[0m\u001b[0;34m=\u001b[0m\u001b[0;32mlambda\u001b[0m \u001b[0mkey\u001b[0m\u001b[0;34m:\u001b[0m \u001b[0me\u001b[0m\u001b[0;34m[\u001b[0m\u001b[0;34m\"emotions\"\u001b[0m\u001b[0;34m]\u001b[0m\u001b[0;34m[\u001b[0m\u001b[0mkey\u001b[0m\u001b[0;34m]\u001b[0m\u001b[0;34m)\u001b[0m \u001b[0;32mfor\u001b[0m \u001b[0me\u001b[0m \u001b[0;32min\u001b[0m \u001b[0memotions\u001b[0m\u001b[0;34m\u001b[0m\u001b[0;34m\u001b[0m\u001b[0m\n",
            "\u001b[0;32m/usr/local/lib/python3.7/dist-packages/fer/fer.py\u001b[0m in \u001b[0;36mdetect_emotions\u001b[0;34m(self, img, face_rectangles)\u001b[0m\n\u001b[1;32m    235\u001b[0m         \u001b[0;34m:\u001b[0m\u001b[0;32mreturn\u001b[0m\u001b[0;34m:\u001b[0m \u001b[0mlist\u001b[0m \u001b[0mcontaining\u001b[0m \u001b[0mall\u001b[0m \u001b[0mthe\u001b[0m \u001b[0mbounding\u001b[0m \u001b[0mboxes\u001b[0m \u001b[0mdetected\u001b[0m \u001b[0;32mwith\u001b[0m \u001b[0mtheir\u001b[0m \u001b[0memotions\u001b[0m\u001b[0;34m.\u001b[0m\u001b[0;34m\u001b[0m\u001b[0;34m\u001b[0m\u001b[0m\n\u001b[1;32m    236\u001b[0m         \"\"\"\n\u001b[0;32m--> 237\u001b[0;31m         \u001b[0mimg\u001b[0m \u001b[0;34m=\u001b[0m \u001b[0mload_image\u001b[0m\u001b[0;34m(\u001b[0m\u001b[0mimg\u001b[0m\u001b[0;34m)\u001b[0m\u001b[0;34m\u001b[0m\u001b[0;34m\u001b[0m\u001b[0m\n\u001b[0m\u001b[1;32m    238\u001b[0m \u001b[0;34m\u001b[0m\u001b[0m\n\u001b[1;32m    239\u001b[0m         \u001b[0memotion_labels\u001b[0m \u001b[0;34m=\u001b[0m \u001b[0mself\u001b[0m\u001b[0;34m.\u001b[0m\u001b[0m_get_labels\u001b[0m\u001b[0;34m(\u001b[0m\u001b[0;34m)\u001b[0m\u001b[0;34m\u001b[0m\u001b[0;34m\u001b[0m\u001b[0m\n",
            "\u001b[0;32m/usr/local/lib/python3.7/dist-packages/fer/utils.py\u001b[0m in \u001b[0;36mload_image\u001b[0;34m(img)\u001b[0m\n\u001b[1;32m     68\u001b[0m     \u001b[0;32melif\u001b[0m \u001b[0;32mnot\u001b[0m \u001b[0mis_exact_image\u001b[0m\u001b[0;34m:\u001b[0m  \u001b[0;31m# image path passed as input\u001b[0m\u001b[0;34m\u001b[0m\u001b[0;34m\u001b[0m\u001b[0m\n\u001b[1;32m     69\u001b[0m         \u001b[0;32mif\u001b[0m \u001b[0;32mnot\u001b[0m \u001b[0mos\u001b[0m\u001b[0;34m.\u001b[0m\u001b[0mpath\u001b[0m\u001b[0;34m.\u001b[0m\u001b[0misfile\u001b[0m\u001b[0;34m(\u001b[0m\u001b[0mimg\u001b[0m\u001b[0;34m)\u001b[0m\u001b[0;34m:\u001b[0m\u001b[0;34m\u001b[0m\u001b[0;34m\u001b[0m\u001b[0m\n\u001b[0;32m---> 70\u001b[0;31m             \u001b[0;32mraise\u001b[0m \u001b[0mValueError\u001b[0m\u001b[0;34m(\u001b[0m\u001b[0;34mf\"Confirm that {img} exists\"\u001b[0m\u001b[0;34m)\u001b[0m\u001b[0;34m\u001b[0m\u001b[0;34m\u001b[0m\u001b[0m\n\u001b[0m\u001b[1;32m     71\u001b[0m         \u001b[0mimg\u001b[0m \u001b[0;34m=\u001b[0m \u001b[0mcv2\u001b[0m\u001b[0;34m.\u001b[0m\u001b[0mimread\u001b[0m\u001b[0;34m(\u001b[0m\u001b[0mimg\u001b[0m\u001b[0;34m)\u001b[0m\u001b[0;34m\u001b[0m\u001b[0;34m\u001b[0m\u001b[0m\n\u001b[1;32m     72\u001b[0m \u001b[0;34m\u001b[0m\u001b[0m\n",
            "\u001b[0;31mValueError\u001b[0m: Confirm that My project(1).jpg exists"
          ]
        }
      ]
    },
    {
      "cell_type": "code",
      "source": [
        "dom_emotion"
      ],
      "metadata": {
        "colab": {
          "base_uri": "https://localhost:8080/"
        },
        "id": "1otJImKS3LZe",
        "outputId": "176f01b8-72b3-48fb-813f-d17b13023319"
      },
      "execution_count": null,
      "outputs": [
        {
          "output_type": "execute_result",
          "data": {
            "text/plain": [
              "('happy', 1.0)"
            ]
          },
          "metadata": {},
          "execution_count": 10
        }
      ]
    },
    {
      "cell_type": "code",
      "source": [
        "\n",
        "\n",
        "# folder path\n",
        "dir_path = r'/content/write images/'\n",
        "count = 0\n",
        "# Iterate directory\n",
        "for path in os.listdir(dir_path):\n",
        "    # check if current path is a file\n",
        "    if os.path.isfile(os.path.join(dir_path, path)):\n",
        "        count += 1\n",
        "print('File count:', count)"
      ],
      "metadata": {
        "id": "144MpRTJ3NIa",
        "colab": {
          "base_uri": "https://localhost:8080/"
        },
        "outputId": "f9037cef-c458-4d94-e172-9475de5a8553"
      },
      "execution_count": null,
      "outputs": [
        {
          "output_type": "stream",
          "name": "stdout",
          "text": [
            "File count: 6\n"
          ]
        }
      ]
    },
    {
      "cell_type": "code",
      "source": [
        "\n",
        "counter=0\n",
        "counter1=0\n",
        "for i in range(1,count+1):\n",
        "\n",
        "\n",
        "   analysis=emotion_detector.detect_emotions(\"/content/write images/Frame11_\"+str(i)+\".jpg\")\n",
        "   dom_emt=list(emotion_detector.top_emotion(\"/content/write images/Frame11_\"+str(i)+\".jpg\"))\n",
        "   print(dom_emt)\n",
        "   d=dom_emt[0]\n",
        "   if(d==\"neutral\"):\n",
        "     counter=counter+1\n",
        "   elif(d==\"happy\"):\n",
        "     counter1+=0.5\n",
        "\n",
        "\n",
        "print(\"The feedback of the professor is: \"+str(((counter+counter1)/count)*10))"
      ],
      "metadata": {
        "colab": {
          "base_uri": "https://localhost:8080/"
        },
        "id": "NcXqUTD4HGWI",
        "outputId": "c396035d-00f9-463e-d381-cabd8bf71e00"
      },
      "execution_count": null,
      "outputs": [
        {
          "output_type": "stream",
          "name": "stdout",
          "text": [
            "['neutral', 0.34]\n",
            "['fear', 0.33]\n",
            "['happy', 0.99]\n",
            "['happy', 0.97]\n",
            "['fear', 0.74]\n",
            "['fear', 0.52]\n",
            "The feedback of the professor is: 3.333333333333333\n"
          ]
        }
      ]
    },
    {
      "cell_type": "code",
      "source": [
        "analysis=emotion_detector.detect_emotions(\"/content/test10.jpg\")"
      ],
      "metadata": {
        "id": "imHOJR53YQ_u"
      },
      "execution_count": null,
      "outputs": []
    },
    {
      "cell_type": "code",
      "source": [
        "analysis"
      ],
      "metadata": {
        "colab": {
          "base_uri": "https://localhost:8080/"
        },
        "id": "vCceoy9GYlZW",
        "outputId": "0bb720ca-7626-4e20-b0c0-383e944ba08b"
      },
      "execution_count": null,
      "outputs": [
        {
          "output_type": "execute_result",
          "data": {
            "text/plain": [
              "[{'box': [489, 202, 77, 98],\n",
              "  'emotions': {'angry': 0.16,\n",
              "   'disgust': 0.0,\n",
              "   'fear': 0.09,\n",
              "   'happy': 0.01,\n",
              "   'neutral': 0.57,\n",
              "   'sad': 0.16,\n",
              "   'surprise': 0.0}},\n",
              " {'box': [495, 45, 60, 79],\n",
              "  'emotions': {'angry': 0.03,\n",
              "   'disgust': 0.0,\n",
              "   'fear': 0.01,\n",
              "   'happy': 0.59,\n",
              "   'neutral': 0.2,\n",
              "   'sad': 0.17,\n",
              "   'surprise': 0.0}}]"
            ]
          },
          "metadata": {},
          "execution_count": 17
        }
      ]
    },
    {
      "cell_type": "code",
      "source": [
        "analysis1 = emotion_detector.detect_emotions(\"/content/My project.jpg\")\n",
        "analysis2 = emotion_detector.detect_emotions(\"/content/ppt.jpg\")\n",
        "total = [analysis1, analysis2]\n",
        "t_stud = len(analysis1)"
      ],
      "metadata": {
        "id": "vL8Xq-IDYn-l"
      },
      "execution_count": null,
      "outputs": []
    },
    {
      "cell_type": "code",
      "source": [
        "def find_max (l):\n",
        "  i = 0\n",
        "  for j in l:\n",
        "    if (l[j]>i):\n",
        "      i = l[j]\n",
        "      dom = j\n",
        "  return dom"
      ],
      "metadata": {
        "id": "ynNdqIjbdniF"
      },
      "execution_count": null,
      "outputs": []
    },
    {
      "cell_type": "code",
      "source": [
        "final = {}\n",
        "for i in range (t_stud):\n",
        "  final['student' + str(i)] = []\n",
        "final"
      ],
      "metadata": {
        "colab": {
          "base_uri": "https://localhost:8080/"
        },
        "id": "vncCtmXminRM",
        "outputId": "855b60da-6838-4893-b343-cbdc74659930"
      },
      "execution_count": null,
      "outputs": [
        {
          "output_type": "execute_result",
          "data": {
            "text/plain": [
              "{'student0': [], 'student1': [], 'student2': [], 'student3': []}"
            ]
          },
          "metadata": {},
          "execution_count": 26
        }
      ]
    },
    {
      "cell_type": "code",
      "source": [
        "for i in total :\n",
        "  index = 0\n",
        "  for stud in i:\n",
        "    dom = find_max(stud['emotions'])\n",
        "    final['student' + str(index)].append(dom)\n",
        "    index +=1"
      ],
      "metadata": {
        "id": "hlRtue0SjLBg"
      },
      "execution_count": null,
      "outputs": []
    },
    {
      "cell_type": "code",
      "source": [
        "final"
      ],
      "metadata": {
        "colab": {
          "base_uri": "https://localhost:8080/"
        },
        "id": "zuths6Bzj5y0",
        "outputId": "449fb010-76de-46b8-85b3-07bebf816a47"
      },
      "execution_count": null,
      "outputs": [
        {
          "output_type": "execute_result",
          "data": {
            "text/plain": [
              "{'student0': ['neutral', 'neutral'],\n",
              " 'student1': ['sad', 'neutral'],\n",
              " 'student2': ['happy', 'neutral'],\n",
              " 'student3': ['neutral', 'sad']}"
            ]
          },
          "metadata": {},
          "execution_count": 28
        }
      ]
    },
    {
      "cell_type": "code",
      "source": [
        "feedback = 0\n",
        "for i in final:\n",
        "  l1 = final[i]\n",
        "  atten = (l1.count('happy') * 0.5 + l1.count('neutral') ) / len(l1)\n",
        "  if atten >= 0.5:\n",
        "    feedback +=1\n",
        "\n",
        "  print(atten)\n",
        "print(str(feedback) + \" / \" + str(t_stud))"
      ],
      "metadata": {
        "colab": {
          "base_uri": "https://localhost:8080/"
        },
        "id": "KsjhCmleqeu3",
        "outputId": "8e2c3d75-24fb-4d12-fb8e-0736d242ae0f"
      },
      "execution_count": null,
      "outputs": [
        {
          "output_type": "stream",
          "name": "stdout",
          "text": [
            "1.0\n",
            "0.5\n",
            "0.75\n",
            "0.5\n",
            "4 / 4\n"
          ]
        }
      ]
    },
    {
      "cell_type": "code",
      "source": [],
      "metadata": {
        "id": "cxC6d5i2ql3S"
      },
      "execution_count": null,
      "outputs": []
    }
  ],
  "metadata": {
    "colab": {
      "provenance": []
    },
    "kernelspec": {
      "display_name": "Python 3",
      "name": "python3"
    },
    "language_info": {
      "name": "python"
    }
  },
  "nbformat": 4,
  "nbformat_minor": 0
}